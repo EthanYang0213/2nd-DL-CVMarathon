{
 "cells": [
  {
   "cell_type": "markdown",
   "metadata": {},
   "source": [
    "## 『本次練習內容』\n",
    "#### 學習如何搭建Inception Block"
   ]
  },
  {
   "cell_type": "markdown",
   "metadata": {},
   "source": [
    "## 『本次練習目的』\n",
    "  #### 了解Inceotion原理\n",
    "  #### 了解如何導入Inception block到原本架構中"
   ]
  },
  {
   "cell_type": "markdown",
   "metadata": {},
   "source": [
    "---"
   ]
  },
  {
   "cell_type": "markdown",
   "metadata": {},
   "source": [
    "![Incpeiton](Inception架構.png)"
   ]
  },
  {
   "cell_type": "code",
   "execution_count": 1,
   "metadata": {
    "ExecuteTime": {
     "end_time": "2020-04-02T02:15:01.709863Z",
     "start_time": "2020-04-02T02:14:55.382659Z"
    }
   },
   "outputs": [
    {
     "name": "stderr",
     "output_type": "stream",
     "text": [
      "Using TensorFlow backend.\n"
     ]
    }
   ],
   "source": [
    "import numpy as np\n",
    "from keras.models import Model\n",
    "from keras.layers import Flatten\n",
    "from keras.layers import Dense\n",
    "from keras.layers import Input\n",
    "from keras.layers import Conv2D\n",
    "from keras.layers import MaxPooling2D\n",
    "from keras.layers import GlobalMaxPooling2D\n",
    "from keras.layers import GlobalAveragePooling2D\n",
    "from keras import backend as K\n",
    "from keras import layers\n",
    "from keras.layers import BatchNormalization\n",
    "from keras.layers import Activation"
   ]
  },
  {
   "cell_type": "markdown",
   "metadata": {},
   "source": [
    "## 導入InceptionV2-有BatchNormalization的Convolution"
   ]
  },
  {
   "cell_type": "code",
   "execution_count": 2,
   "metadata": {
    "ExecuteTime": {
     "end_time": "2020-04-02T02:27:25.225033Z",
     "start_time": "2020-04-02T02:27:25.216038Z"
    }
   },
   "outputs": [],
   "source": [
    "def Conv2d_bn(x,filters,kernel_size,padding='same',strides=(1, 1),normalizer=True,activation='relu',name=None):\n",
    "    if name is not None:\n",
    "        conv_name = name + '_conv'\n",
    "        bn_name = name + '_bn'\n",
    "        act_name = name + '_act'\n",
    "    else:\n",
    "        conv_name = None\n",
    "        bn_name = None\n",
    "        act_name = None\n",
    "    if K.image_data_format() == 'channels_first':\n",
    "        bn_axis = 1\n",
    "    else:\n",
    "        bn_axis = 3\n",
    "    x = Conv2D(\n",
    "            filters, kernel_size,\n",
    "            strides=strides, padding=padding,\n",
    "            use_bias=False, name=conv_name)(x)\n",
    "    if normalizer:\n",
    "        x = BatchNormalization(axis=bn_axis, scale=False, name=bn_name)(x)\n",
    "    if activation:\n",
    "        x = Activation(activation, name=act_name)(x)\n",
    "    return x"
   ]
  },
  {
   "cell_type": "markdown",
   "metadata": {},
   "source": [
    "## 參考上圖搭建 InceptionV1_block"
   ]
  },
  {
   "cell_type": "code",
   "execution_count": 3,
   "metadata": {
    "ExecuteTime": {
     "end_time": "2020-04-02T02:33:24.527339Z",
     "start_time": "2020-04-02T02:33:24.516330Z"
    }
   },
   "outputs": [],
   "source": [
    "def InceptionV1_block(x, specs,channel_axis, name):\n",
    "    (br0, br1, br2, br3) = specs   # ((64,), (96,128), (16,32), (32,))\n",
    "    branch_0 = Conv2d_bn(x, br0[0], (1, 1), name=name+\"_Branch_0\")\n",
    "\n",
    "    branch_1 = Conv2d_bn(x, br1[0], (1, 1), name=name+\"_Branch_1\")\n",
    "    branch_1 = Conv2d_bn(branch_1, br1[1], (3, 3), name=name+\"_Branch_1_1\")\n",
    "\n",
    "    branch_2 = Conv2d_bn(x, br2[0], (1, 1), name = name + '_Branch_2')\n",
    "    brancg_2 = Conv2d_bn(branch_2, br2[1], (5, 5), name = name + '_Branch_2')\n",
    "    \n",
    "    branch_3 = MaxPooling2D((3, 3), padding = 'same', strides = (1, 1))(x)\n",
    "    branch_3 = Conv2d_bn(branch_3, br3[0], (1, 1), name = name + '_Branch_3')\n",
    "    \n",
    "\n",
    "    x = layers.concatenate(\n",
    "        [branch_0, branch_1, branch_2, branch_3],\n",
    "        axis=channel_axis,\n",
    "        name=name+\"_Concatenated\")\n",
    "    return x"
   ]
  },
  {
   "cell_type": "markdown",
   "metadata": {},
   "source": [
    "## 測試"
   ]
  },
  {
   "cell_type": "code",
   "execution_count": 4,
   "metadata": {
    "ExecuteTime": {
     "end_time": "2020-04-02T02:33:33.317272Z",
     "start_time": "2020-04-02T02:33:28.596976Z"
    }
   },
   "outputs": [
    {
     "name": "stdout",
     "output_type": "stream",
     "text": [
      "WARNING:tensorflow:From D:\\Anaconda3\\lib\\site-packages\\keras\\backend\\tensorflow_backend.py:66: The name tf.get_default_graph is deprecated. Please use tf.compat.v1.get_default_graph instead.\n",
      "\n",
      "WARNING:tensorflow:From D:\\Anaconda3\\lib\\site-packages\\keras\\backend\\tensorflow_backend.py:541: The name tf.placeholder is deprecated. Please use tf.compat.v1.placeholder instead.\n",
      "\n",
      "WARNING:tensorflow:From D:\\Anaconda3\\lib\\site-packages\\keras\\backend\\tensorflow_backend.py:4432: The name tf.random_uniform is deprecated. Please use tf.random.uniform instead.\n",
      "\n",
      "WARNING:tensorflow:From D:\\Anaconda3\\lib\\site-packages\\keras\\backend\\tensorflow_backend.py:190: The name tf.get_default_session is deprecated. Please use tf.compat.v1.get_default_session instead.\n",
      "\n",
      "WARNING:tensorflow:From D:\\Anaconda3\\lib\\site-packages\\keras\\backend\\tensorflow_backend.py:197: The name tf.ConfigProto is deprecated. Please use tf.compat.v1.ConfigProto instead.\n",
      "\n",
      "WARNING:tensorflow:From D:\\Anaconda3\\lib\\site-packages\\keras\\backend\\tensorflow_backend.py:2041: The name tf.nn.fused_batch_norm is deprecated. Please use tf.compat.v1.nn.fused_batch_norm instead.\n",
      "\n",
      "WARNING:tensorflow:From D:\\Anaconda3\\lib\\site-packages\\keras\\backend\\tensorflow_backend.py:4267: The name tf.nn.max_pool is deprecated. Please use tf.nn.max_pool2d instead.\n",
      "\n",
      "Tensor(\"Block_1_Concatenated/concat:0\", shape=(?, 224, 224, 240), dtype=float32)\n"
     ]
    }
   ],
   "source": [
    "img_input = Input(shape=(224,224,1))\n",
    "x=InceptionV1_block(img_input, ((64,), (96,128), (16,32), (32,)), 3, 'Block_1')\n",
    "print(x)"
   ]
  },
  {
   "cell_type": "markdown",
   "metadata": {},
   "source": [
    "## 將 InceptionV1_block中n*n卷積改為1 x n+n x 1"
   ]
  },
  {
   "cell_type": "code",
   "execution_count": 6,
   "metadata": {
    "ExecuteTime": {
     "end_time": "2020-04-02T02:46:40.571551Z",
     "start_time": "2020-04-02T02:46:40.562571Z"
    }
   },
   "outputs": [],
   "source": [
    "def InceptionV3_block(x, specs,channel_axis, name):\n",
    "    (br0, br1, br2, br3) = specs   # ((64,), (96,128), (16,32), (32,))\n",
    "    branch_0 = Conv2d_bn(x, br0[0], (1, 1), name=name+\"_Branch_0\")\n",
    "\n",
    "    branch_1 = Conv2d_bn(x, br1[0], (1, 1), name=name+\"_Branch_1\")\n",
    "    branch_1 = Conv2d_bn(branch_1, br1[1], (1, 3), name=name+\"_Branch_1_1\")\n",
    "    branch_1 = Conv2d_bn(branch_1, br1[1], (3, 1), name=name+\"_Branch_1_2\")\n",
    "\n",
    "    branch_2 = Conv2d_bn(x, br2[0], (1, 1), name = name + '_Branch_2')\n",
    "    branch_2 = Conv2d_bn(branch_2, br2[1], (1, 5), name = name + '_Branch_2_1')\n",
    "    branch_2 = Conv2d_bn(branch_2, br2[1], (5, 1), name = name + '_Branch_2_2')\n",
    "\n",
    "    branch_3 = MaxPooling2D((3, 3), padding = 'same', strides = (1, 1))(x)\n",
    "    branch_3 = Conv2d_bn(branch_3, br3[0], (1, 1), name = name + '_Branch_3')\n",
    "\n",
    "    x = layers.concatenate(\n",
    "        [branch_0, branch_1, branch_2, branch_3],\n",
    "        axis=channel_axis,\n",
    "        name=name+\"_Concatenated\")\n",
    "    return x"
   ]
  },
  {
   "cell_type": "markdown",
   "metadata": {},
   "source": [
    "## 測試"
   ]
  },
  {
   "cell_type": "code",
   "execution_count": 7,
   "metadata": {
    "ExecuteTime": {
     "end_time": "2020-04-02T02:46:44.067309Z",
     "start_time": "2020-04-02T02:46:43.118335Z"
    }
   },
   "outputs": [
    {
     "name": "stdout",
     "output_type": "stream",
     "text": [
      "Tensor(\"Block_1_Concatenated_1/concat:0\", shape=(?, 224, 224, 256), dtype=float32)\n"
     ]
    }
   ],
   "source": [
    "img_input = Input(shape=(224,224,1))\n",
    "x=InceptionV3_block(img_input, ((64,), (96,128), (16,32), (32,)), 3, 'Block_1')\n",
    "print(x)"
   ]
  },
  {
   "cell_type": "markdown",
   "metadata": {},
   "source": [
    "---"
   ]
  },
  {
   "cell_type": "markdown",
   "metadata": {},
   "source": [
    "## 額外練習"
   ]
  },
  {
   "cell_type": "markdown",
   "metadata": {},
   "source": [
    "## 將VGG16 Block_3中的Convolution全部改為InceptionV1_block\n",
    "## Block_5中的Convolution全部改為InceptionV3_block\n",
    "## 並將所有Convolution改為Conv2d_bn"
   ]
  },
  {
   "cell_type": "markdown",
   "metadata": {},
   "source": [
    "#### 原vgg16架構"
   ]
  },
  {
   "cell_type": "code",
   "execution_count": null,
   "metadata": {},
   "outputs": [],
   "source": [
    "\n",
    "\n",
    "def VGG16(include_top=True,input_tensor=None, input_shape=(224,224,1),\n",
    "          pooling='max',classes=1000):\n",
    "\n",
    "    img_input = Input(shape=input_shape)\n",
    "\n",
    "    x = Conv2D(64, (3, 3), activation='relu', padding='same', name='block1_conv1')(img_input)\n",
    "    x = Conv2D(64, (3, 3), activation='relu', padding='same', name='block1_conv2')(x)\n",
    "    x = MaxPooling2D((2, 2), strides=(2, 2), name='block1_pool')(x)\n",
    "\n",
    "    # Block 2\n",
    "    x = Conv2D(128, (3, 3), activation='relu', padding='same', name='block2_conv1')(x)\n",
    "    x = Conv2D(128, (3, 3), activation='relu', padding='same', name='block2_conv2')(x)\n",
    "    x = MaxPooling2D((2, 2), strides=(2, 2), name='block2_pool')(x)\n",
    "\n",
    "    # Block 3\n",
    "    x = Conv2D(256, (3, 3), activation='relu', padding='same', name='block3_conv1')(x)\n",
    "    x = Conv2D(256, (3, 3), activation='relu', padding='same', name='block3_conv2')(x)\n",
    "    x = Conv2D(256, (3, 3), activation='relu', padding='same', name='block3_conv3')(x)\n",
    "    x = MaxPooling2D((2, 2), strides=(2, 2), name='block3_pool')(x)\n",
    "\n",
    "    # Block 4\n",
    "    x = Conv2D(512, (3, 3), activation='relu', padding='same', name='block4_conv1')(x)\n",
    "    x = Conv2D(512, (3, 3), activation='relu', padding='same', name='block4_conv2')(x)\n",
    "    x = Conv2D(512, (3, 3), activation='relu', padding='same', name='block4_conv3')(x)\n",
    "    x = MaxPooling2D((2, 2), strides=(2, 2), name='block4_pool')(x)\n",
    "\n",
    "    # Block 5\n",
    "    x = Conv2D(512, (3, 3), activation='relu', padding='same', name='block5_conv1')(x)\n",
    "    x = Conv2D(512, (3, 3), activation='relu', padding='same', name='block5_conv2')(x)\n",
    "    x = Conv2D(512, (3, 3), activation='relu', padding='same', name='block5_conv3')(x)\n",
    "    x = MaxPooling2D((2, 2), strides=(2, 2), name='block5_pool')(x)\n",
    "\n",
    "    if include_top:\n",
    "        # Classification block\n",
    "        x = Flatten(name='flatten')(x)\n",
    "        x = Dense(4096, activation='relu', name='fc1')(x)\n",
    "        x = Dense(4096, activation='relu', name='fc2')(x)\n",
    "        x = Dense(classes, activation='softmax', name='predictions')(x)\n",
    "    else:\n",
    "        if pooling == 'avg':\n",
    "            x = GlobalAveragePooling2D()(x)\n",
    "        elif pooling == 'max':\n",
    "            x = GlobalMaxPooling2D()(x)\n",
    "\n",
    "    inputs = img_input\n",
    "    # Create model.\n",
    "    model = Model(inputs, x, name='vgg16')\n",
    "\n",
    "    return model\n",
    "\n"
   ]
  },
  {
   "cell_type": "markdown",
   "metadata": {},
   "source": [
    "#### 修改後"
   ]
  },
  {
   "cell_type": "code",
   "execution_count": 8,
   "metadata": {
    "ExecuteTime": {
     "end_time": "2020-04-02T02:51:42.202321Z",
     "start_time": "2020-04-02T02:51:42.181347Z"
    }
   },
   "outputs": [],
   "source": [
    "def VGG16_Inception(include_top=True,input_tensor=None, input_shape=(224,224,1),\n",
    "          pooling='max',classes=1000):\n",
    "    \n",
    "     # Block 1\n",
    "    x = Conv2D(64, (3, 3), activation='relu', padding='same', name='block1_conv1')(img_input)\n",
    "    x = Conv2D(64, (3, 3), activation='relu', padding='same', name='block1_conv2')(x)\n",
    "    x = MaxPooling2D((2, 2), strides=(2, 2), name='block1_pool')(x)\n",
    "\n",
    "    # Block 2\n",
    "    x = Conv2D(128, (3, 3), activation='relu', padding='same', name='block2_conv1')(x)\n",
    "    x = Conv2D(128, (3, 3), activation='relu', padding='same', name='block2_conv2')(x)\n",
    "    x = MaxPooling2D((2, 2), strides=(2, 2), name='block2_pool')(x)\n",
    "\n",
    "    # Block 3\n",
    "    # x=InceptionV1_block(img_input, ((64,), (96,128), (16,32), (32,)), 3, 'Block_1')\n",
    "    x=InceptionV1_block(img_input, ((64,), (96,128), (16,32), (32,)), 3, 'Block_3_1')\n",
    "    x=InceptionV1_block(img_input, ((64,), (96,128), (16,32), (32,)), 3, 'Block_3_2')\n",
    "    x=InceptionV1_block(img_input, ((64,), (96,128), (16,32), (32,)), 3, 'Block_3_3')\n",
    "\n",
    "\n",
    "    # Block 4\n",
    "    x = Conv2D(512, (3, 3), activation='relu', padding='same', name='block4_conv1')(x)\n",
    "    x = Conv2D(512, (3, 3), activation='relu', padding='same', name='block4_conv2')(x)\n",
    "    x = Conv2D(512, (3, 3), activation='relu', padding='same', name='block4_conv3')(x)\n",
    "    x = MaxPooling2D((2, 2), strides=(2, 2), name='block4_pool')(x)\n",
    "\n",
    "    # Block 5\n",
    "    # x=InceptionV3_block(img_input, ((64,), (96,128), (16,32), (32,)), 3, 'Block_1')\n",
    "    x=InceptionV3_block(img_input, ((64,), (96,128), (16,32), (32,)), 3, 'Block_5_1')\n",
    "    x=InceptionV3_block(img_input, ((64,), (96,128), (16,32), (32,)), 3, 'Block_5_2')\n",
    "    x=InceptionV3_block(img_input, ((64,), (96,128), (16,32), (32,)), 3, 'Block_5_3')\n",
    "\n",
    "    \n",
    "    if include_top:\n",
    "        # Classification block\n",
    "        x = Flatten(name='flatten')(x)\n",
    "        x = Dense(4096, activation='relu', name='fc1')(x)\n",
    "        x = Dense(4096, activation='relu', name='fc2')(x)\n",
    "        x = Dense(classes, activation='softmax', name='predictions')(x)\n",
    "    else:\n",
    "        if pooling == 'avg':\n",
    "            x = GlobalAveragePooling2D()(x)\n",
    "        elif pooling == 'max':\n",
    "            x = GlobalMaxPooling2D()(x)\n",
    "\n",
    "    inputs = img_input\n",
    "    # Create model.\n",
    "    model = Model(inputs, x, name='vgg16')\n",
    "\n",
    "    return model\n",
    "\n"
   ]
  },
  {
   "cell_type": "code",
   "execution_count": 9,
   "metadata": {
    "ExecuteTime": {
     "end_time": "2020-04-02T02:51:53.443385Z",
     "start_time": "2020-04-02T02:51:49.960860Z"
    }
   },
   "outputs": [],
   "source": [
    "model = VGG16_Inception(include_top=False)"
   ]
  },
  {
   "cell_type": "code",
   "execution_count": 10,
   "metadata": {
    "ExecuteTime": {
     "end_time": "2020-04-02T02:51:54.619695Z",
     "start_time": "2020-04-02T02:51:54.608698Z"
    }
   },
   "outputs": [
    {
     "name": "stdout",
     "output_type": "stream",
     "text": [
      "Model: \"vgg16\"\n",
      "__________________________________________________________________________________________________\n",
      "Layer (type)                    Output Shape         Param #     Connected to                     \n",
      "==================================================================================================\n",
      "input_2 (InputLayer)            (None, 224, 224, 1)  0                                            \n",
      "__________________________________________________________________________________________________\n",
      "Block_5_3_Branch_1_conv (Conv2D (None, 224, 224, 96) 96          input_2[0][0]                    \n",
      "__________________________________________________________________________________________________\n",
      "Block_5_3_Branch_2_conv (Conv2D (None, 224, 224, 16) 16          input_2[0][0]                    \n",
      "__________________________________________________________________________________________________\n",
      "Block_5_3_Branch_1_bn (BatchNor (None, 224, 224, 96) 288         Block_5_3_Branch_1_conv[0][0]    \n",
      "__________________________________________________________________________________________________\n",
      "Block_5_3_Branch_2_bn (BatchNor (None, 224, 224, 16) 48          Block_5_3_Branch_2_conv[0][0]    \n",
      "__________________________________________________________________________________________________\n",
      "Block_5_3_Branch_1_act (Activat (None, 224, 224, 96) 0           Block_5_3_Branch_1_bn[0][0]      \n",
      "__________________________________________________________________________________________________\n",
      "Block_5_3_Branch_2_act (Activat (None, 224, 224, 16) 0           Block_5_3_Branch_2_bn[0][0]      \n",
      "__________________________________________________________________________________________________\n",
      "Block_5_3_Branch_1_1_conv (Conv (None, 224, 224, 128 36864       Block_5_3_Branch_1_act[0][0]     \n",
      "__________________________________________________________________________________________________\n",
      "Block_5_3_Branch_2_1_conv (Conv (None, 224, 224, 32) 2560        Block_5_3_Branch_2_act[0][0]     \n",
      "__________________________________________________________________________________________________\n",
      "Block_5_3_Branch_1_1_bn (BatchN (None, 224, 224, 128 384         Block_5_3_Branch_1_1_conv[0][0]  \n",
      "__________________________________________________________________________________________________\n",
      "Block_5_3_Branch_2_1_bn (BatchN (None, 224, 224, 32) 96          Block_5_3_Branch_2_1_conv[0][0]  \n",
      "__________________________________________________________________________________________________\n",
      "Block_5_3_Branch_1_1_act (Activ (None, 224, 224, 128 0           Block_5_3_Branch_1_1_bn[0][0]    \n",
      "__________________________________________________________________________________________________\n",
      "Block_5_3_Branch_2_1_act (Activ (None, 224, 224, 32) 0           Block_5_3_Branch_2_1_bn[0][0]    \n",
      "__________________________________________________________________________________________________\n",
      "max_pooling2d_8 (MaxPooling2D)  (None, 224, 224, 1)  0           input_2[0][0]                    \n",
      "__________________________________________________________________________________________________\n",
      "Block_5_3_Branch_0_conv (Conv2D (None, 224, 224, 64) 64          input_2[0][0]                    \n",
      "__________________________________________________________________________________________________\n",
      "Block_5_3_Branch_1_2_conv (Conv (None, 224, 224, 128 49152       Block_5_3_Branch_1_1_act[0][0]   \n",
      "__________________________________________________________________________________________________\n",
      "Block_5_3_Branch_2_2_conv (Conv (None, 224, 224, 32) 5120        Block_5_3_Branch_2_1_act[0][0]   \n",
      "__________________________________________________________________________________________________\n",
      "Block_5_3_Branch_3_conv (Conv2D (None, 224, 224, 32) 32          max_pooling2d_8[0][0]            \n",
      "__________________________________________________________________________________________________\n",
      "Block_5_3_Branch_0_bn (BatchNor (None, 224, 224, 64) 192         Block_5_3_Branch_0_conv[0][0]    \n",
      "__________________________________________________________________________________________________\n",
      "Block_5_3_Branch_1_2_bn (BatchN (None, 224, 224, 128 384         Block_5_3_Branch_1_2_conv[0][0]  \n",
      "__________________________________________________________________________________________________\n",
      "Block_5_3_Branch_2_2_bn (BatchN (None, 224, 224, 32) 96          Block_5_3_Branch_2_2_conv[0][0]  \n",
      "__________________________________________________________________________________________________\n",
      "Block_5_3_Branch_3_bn (BatchNor (None, 224, 224, 32) 96          Block_5_3_Branch_3_conv[0][0]    \n",
      "__________________________________________________________________________________________________\n",
      "Block_5_3_Branch_0_act (Activat (None, 224, 224, 64) 0           Block_5_3_Branch_0_bn[0][0]      \n",
      "__________________________________________________________________________________________________\n",
      "Block_5_3_Branch_1_2_act (Activ (None, 224, 224, 128 0           Block_5_3_Branch_1_2_bn[0][0]    \n",
      "__________________________________________________________________________________________________\n",
      "Block_5_3_Branch_2_2_act (Activ (None, 224, 224, 32) 0           Block_5_3_Branch_2_2_bn[0][0]    \n",
      "__________________________________________________________________________________________________\n",
      "Block_5_3_Branch_3_act (Activat (None, 224, 224, 32) 0           Block_5_3_Branch_3_bn[0][0]      \n",
      "__________________________________________________________________________________________________\n",
      "Block_5_3_Concatenated (Concate (None, 224, 224, 256 0           Block_5_3_Branch_0_act[0][0]     \n",
      "                                                                 Block_5_3_Branch_1_2_act[0][0]   \n",
      "                                                                 Block_5_3_Branch_2_2_act[0][0]   \n",
      "                                                                 Block_5_3_Branch_3_act[0][0]     \n",
      "__________________________________________________________________________________________________\n",
      "global_max_pooling2d_1 (GlobalM (None, 256)          0           Block_5_3_Concatenated[0][0]     \n",
      "==================================================================================================\n",
      "Total params: 95,488\n",
      "Trainable params: 94,432\n",
      "Non-trainable params: 1,056\n",
      "__________________________________________________________________________________________________\n"
     ]
    }
   ],
   "source": [
    "model.summary()"
   ]
  },
  {
   "cell_type": "code",
   "execution_count": null,
   "metadata": {},
   "outputs": [],
   "source": []
  }
 ],
 "metadata": {
  "kernelspec": {
   "display_name": "Python 3",
   "language": "python",
   "name": "python3"
  },
  "language_info": {
   "codemirror_mode": {
    "name": "ipython",
    "version": 3
   },
   "file_extension": ".py",
   "mimetype": "text/x-python",
   "name": "python",
   "nbconvert_exporter": "python",
   "pygments_lexer": "ipython3",
   "version": "3.7.3"
  }
 },
 "nbformat": 4,
 "nbformat_minor": 2
}
